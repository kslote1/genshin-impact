{
 "cells": [
  {
   "cell_type": "code",
   "execution_count": 13,
   "id": "24d11003",
   "metadata": {},
   "outputs": [
    {
     "name": "stdout",
     "output_type": "stream",
     "text": [
      "2990.5538553855386\n",
      "-2697.4302430243024\n"
     ]
    }
   ],
   "source": [
    "import numpy as np\n",
    "\n",
    "\n",
    "# Material and Rare Counters\n",
    "num_materials_option_one = 900\n",
    "num_rare_option_one = 0\n",
    "num_materials_option_two = 900\n",
    "num_rare_option_two = 0\n",
    "\n",
    "# Store the outputs in lists\n",
    "option_one_material = []\n",
    "option_one_rare = []\n",
    "option_two_material = []\n",
    "option_two_rare = []\n",
    "\n",
    "# Option Probabilities\n",
    "prob_receive_material_back = 0.25\n",
    "prob_of_double_rare = 0.1\n",
    "\n",
    "# Simulation\n",
    "draws = 9999\n",
    "for draw in range(draws):\n",
    "    p = np.random.normal(0, 1)\n",
    "    \n",
    "    # Option One\n",
    "    if p <= prob_receive_material_back:\n",
    "        num_materials_option_one -= 2\n",
    "        num_rare_option_one += 1\n",
    "    else:\n",
    "        num_materials_option_one -= 3\n",
    "        num_rare_option_one += 1\n",
    "\n",
    "    # Option Two\n",
    "    if p <= prob_of_double_rare:\n",
    "        num_materials_option_two -= 3\n",
    "        num_rare_option_two += 2\n",
    "    else:\n",
    "        num_materials_option_two -= 3\n",
    "        num_rare_option_two += 1\n",
    "\n",
    "    option_one_material.append(num_materials_option_one)\n",
    "    option_one_rare.append(num_rare_option_one)\n",
    "    option_two_material.append(num_materials_option_two)\n",
    "    option_two_rare.append(num_rare_option_two)\n",
    "\n",
    "\n",
    "\n",
    "print(np.mean(option_one_material) - np.mean(option_two_material))\n",
    "print(np.mean(option_one_rare) - np.mean(option_two_rare))"
   ]
  }
 ],
 "metadata": {
  "kernelspec": {
   "display_name": "Python 3 (ipykernel)",
   "language": "python",
   "name": "python3"
  },
  "language_info": {
   "codemirror_mode": {
    "name": "ipython",
    "version": 3
   },
   "file_extension": ".py",
   "mimetype": "text/x-python",
   "name": "python",
   "nbconvert_exporter": "python",
   "pygments_lexer": "ipython3",
   "version": "3.9.12"
  }
 },
 "nbformat": 4,
 "nbformat_minor": 5
}
